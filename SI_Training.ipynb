{
  "nbformat": 4,
  "nbformat_minor": 0,
  "metadata": {
    "colab": {
      "provenance": [],
      "authorship_tag": "ABX9TyOqjI0OFMTkN/wlWhoOttlT",
      "include_colab_link": true
    },
    "kernelspec": {
      "name": "python3",
      "display_name": "Python 3"
    },
    "language_info": {
      "name": "python"
    }
  },
  "cells": [
    {
      "cell_type": "markdown",
      "metadata": {
        "id": "view-in-github",
        "colab_type": "text"
      },
      "source": [
        "<a href=\"https://colab.research.google.com/github/223t1a3119/Practice/blob/main/SI_Training.ipynb\" target=\"_parent\"><img src=\"https://colab.research.google.com/assets/colab-badge.svg\" alt=\"Open In Colab\"/></a>"
      ]
    },
    {
      "cell_type": "code",
      "execution_count": null,
      "metadata": {
        "colab": {
          "base_uri": "https://localhost:8080/"
        },
        "id": "1Zzt2tyvCKMT",
        "outputId": "72ad23ee-8ded-405a-904a-19ed35dfe06e"
      },
      "outputs": [
        {
          "output_type": "stream",
          "name": "stdout",
          "text": [
            "5\n",
            "-5 1 5 0 -7\n",
            "1\n"
          ]
        }
      ],
      "source": [
        "N = int(input())\n",
        "A = list(map(int,input().split()))\n",
        "current =0\n",
        "max_alt = 0\n",
        "for i in range(N):\n",
        "  current += A[i]\n",
        "  max_alt = max(current,max_alt)\n",
        "print(max_alt)"
      ]
    },
    {
      "cell_type": "code",
      "source": [
        "# Read dimensions of the first matrix\n",
        "n1, n2 = map(int, input().split())\n",
        "A = []\n",
        "\n",
        "# Read elements of the first matrix\n",
        "for i in range(n1):\n",
        "    row = list(map(int, input().split()))\n",
        "    A.append(row)\n",
        "\n",
        "# Read dimensions of the second matrix\n",
        "m1, m2 = map(int, input().split())\n",
        "B = []\n",
        "\n",
        "# Read elements of the second matrix\n",
        "for i in range(m1):\n",
        "    row = list(map(int, input().split()))\n",
        "    B.append(row)\n",
        "\n",
        "# Check if matrix multiplication is possible\n",
        "if n2 != m1:\n",
        "    raise ValueError(\"Matrix multiplication not possible: number of columns in A must be equal to the number of rows in B.\")\n",
        "\n",
        "# Initialize the result matrix with zeros\n",
        "C = [[0] * m2 for _ in range(n1)]\n",
        "\n",
        "# Perform matrix multiplication\n",
        "for i in range(n1):\n",
        "    for j in range(m2):\n",
        "        C[i][j] = sum(A[i][k] * B[k][j] for k in range(n2))\n",
        "\n",
        "# Print the resulting matrix\n",
        "for row in C:\n",
        "    print(' '.join(map(str, row)))\n"
      ],
      "metadata": {
        "colab": {
          "base_uri": "https://localhost:8080/"
        },
        "id": "pPSDB60qOVxS",
        "outputId": "6b0e5b3b-0ebe-428a-fce9-5c3f7631e68f"
      },
      "execution_count": null,
      "outputs": [
        {
          "output_type": "stream",
          "name": "stdout",
          "text": [
            "2 2\n",
            "1 2\n",
            "3 -1\n",
            "2 3\n",
            "1 -2 3\n",
            "2 3 -1\n",
            "5 4 1\n",
            "1 -9 10\n"
          ]
        }
      ]
    },
    {
      "cell_type": "code",
      "source": [
        "jewels = input()\n",
        "stones = input()\n",
        "count = 0\n",
        "for i in range(len(jewels)):\n",
        "  for j in range(len(stones)):\n",
        "    if jewels[i] == stones[j]:\n",
        "      count = count+1\n",
        "print(count)"
      ],
      "metadata": {
        "colab": {
          "base_uri": "https://localhost:8080/"
        },
        "id": "vs2b6ORen_BE",
        "outputId": "435c4a2f-f4ae-4a84-c1bc-23753f08b3ad"
      },
      "execution_count": null,
      "outputs": [
        {
          "output_type": "stream",
          "name": "stdout",
          "text": [
            "aA\n",
            "aAAbbbb\n",
            "3\n"
          ]
        }
      ]
    },
    {
      "cell_type": "code",
      "source": [
        "a,b,c,d = map(int,input().split())\n",
        "if a == b or a==c or a == d:\n",
        "  print(1)\n",
        "else:\n",
        "  print(0)"
      ],
      "metadata": {
        "colab": {
          "base_uri": "https://localhost:8080/"
        },
        "id": "lR-T7AhTxM88",
        "outputId": "5b01c927-87ec-43cf-fa42-b7e3be1aca2c"
      },
      "execution_count": null,
      "outputs": [
        {
          "output_type": "stream",
          "name": "stdout",
          "text": [
            "5 5 4 4\n",
            "1\n"
          ]
        }
      ]
    },
    {
      "cell_type": "code",
      "source": [
        "n = int(input())\n",
        "arr = list(map(int,input().split()))\n",
        "count = 0\n",
        "ans = 0\n",
        "for i in range(n):\n",
        "  if arr[i]==1:\n",
        "    count = count+1\n",
        "  else:\n",
        "    count = 0\n",
        "print(count)\n",
        "\n"
      ],
      "metadata": {
        "id": "n29wDu2QGKFt"
      },
      "execution_count": null,
      "outputs": []
    },
    {
      "cell_type": "code",
      "source": [
        "n = int(input())\n",
        "odd_count = 0\n",
        "even_count = 0\n",
        "\n",
        "if (n & 1 == 0):\n",
        "  even_count = even_count+1\n",
        "elif (n & 1 != 0):\n",
        "  odd_count = odd_count+1\n",
        "print(even_count,odd_count)\n"
      ],
      "metadata": {
        "colab": {
          "base_uri": "https://localhost:8080/"
        },
        "id": "TUXNISqH24xe",
        "outputId": "17d644c1-171b-42db-e93d-e8c1baa51d54"
      },
      "execution_count": null,
      "outputs": [
        {
          "output_type": "stream",
          "name": "stdout",
          "text": [
            "50\n",
            "1 0\n"
          ]
        }
      ]
    },
    {
      "cell_type": "code",
      "source": [
        "x, y = map(int,input().split())\n",
        "z = (1<<x)-1\n",
        "result = z<<y\n",
        "print(result)"
      ],
      "metadata": {
        "colab": {
          "base_uri": "https://localhost:8080/"
        },
        "id": "nDMxNOjrE8WQ",
        "outputId": "76619d75-290f-41fa-bcde-0e943f1eedc4"
      },
      "execution_count": null,
      "outputs": [
        {
          "output_type": "stream",
          "name": "stdout",
          "text": [
            "3 4\n",
            "112\n"
          ]
        }
      ]
    },
    {
      "cell_type": "code",
      "source": [
        "x,y = map(int,input().split())\n",
        "z = x^y\n",
        "a = \"\"\n",
        "while z>0:\n",
        "  a = str(z%2)+a\n",
        "  z = z//2\n",
        "  z = z-1\n",
        "count = 0\n",
        "n= len(a)\n",
        "print(n)\n",
        "for i in range(n):\n",
        "  if a[i] == 1:\n",
        "    count = count+1\n",
        "print(count)\n",
        "\n"
      ],
      "metadata": {
        "id": "BJa2vhj3izII"
      },
      "execution_count": null,
      "outputs": []
    },
    {
      "cell_type": "code",
      "source": [
        "a,b,c = map(int,input().split())\n",
        "if (a != b) and (a != c):\n",
        "  print(a)\n",
        "elif (b != a) and (b != c):\n",
        "  print(b)\n",
        "else:\n",
        "  print(c)\n"
      ],
      "metadata": {
        "colab": {
          "base_uri": "https://localhost:8080/"
        },
        "id": "ASllkIYLR9yU",
        "outputId": "652ddb85-1865-4f9f-a01e-bcc2e003584e"
      },
      "execution_count": null,
      "outputs": [
        {
          "output_type": "stream",
          "name": "stdout",
          "text": [
            "1 2 1\n",
            "2\n"
          ]
        }
      ]
    },
    {
      "cell_type": "code",
      "source": [
        "n = int(input())\n",
        "A = []\n",
        "for i in range(n):\n",
        "  arr = list(map(int,input().split()))\n",
        "  A.append(arr)\n",
        "for i in range(n):\n",
        "  for j in range(n):\n",
        "    print(A[j][i], end =\" \")\n",
        "  print()"
      ],
      "metadata": {
        "colab": {
          "base_uri": "https://localhost:8080/"
        },
        "id": "9EQvX1mal0AV",
        "outputId": "e72fa352-cf28-44be-93e4-44d3a7929230"
      },
      "execution_count": null,
      "outputs": [
        {
          "output_type": "stream",
          "name": "stdout",
          "text": [
            "2\n",
            "1 2\n",
            "3 4\n",
            "1 3 \n",
            "2 4 \n"
          ]
        }
      ]
    },
    {
      "cell_type": "code",
      "source": [
        "x,y,z = map(int,input().split())\n",
        "p = x*y\n",
        "q = z*24*60\n",
        "if p<q:\n",
        "  print(\"Yes\")\n",
        "else:\n",
        "  print(\"No\")"
      ],
      "metadata": {
        "colab": {
          "base_uri": "https://localhost:8080/"
        },
        "id": "I2YFZXvwuccL",
        "outputId": "24ff57a4-eedc-44f4-ca5d-19ed10d4f891"
      },
      "execution_count": null,
      "outputs": [
        {
          "output_type": "stream",
          "name": "stdout",
          "text": [
            "5 5 5\n",
            "Yes\n"
          ]
        }
      ]
    },
    {
      "cell_type": "code",
      "source": [
        "t = int(input())\n",
        "for i in range(t):\n",
        "    x,y,z = map(int,input().split())\n",
        "    p = x*y\n",
        "    q = z*24*60\n",
        "    if p<=q:\n",
        "        print(\"Yes\")\n",
        "    else:\n",
        "        print(\"No\")\n",
        "\n"
      ],
      "metadata": {
        "colab": {
          "base_uri": "https://localhost:8080/"
        },
        "id": "Ifsaxpsqv0rb",
        "outputId": "cad9c91d-7df0-4ad4-b355-a734f7dd0632"
      },
      "execution_count": null,
      "outputs": [
        {
          "output_type": "stream",
          "name": "stdout",
          "text": [
            "3\n",
            "5 5 5\n",
            "Yes\n",
            "50 80 2\n",
            "No\n",
            "20 72 1\n",
            "Yes\n"
          ]
        }
      ]
    },
    {
      "cell_type": "code",
      "source": [
        "t = int(input())\n",
        "while t > 0:\n",
        "    n = int(input())\n",
        "    arr = list(map(int, input().split()))\n",
        "\n",
        "    # Step 1: Compute the OR of all elements\n",
        "    y = 0\n",
        "    for i in range(n):\n",
        "        y |= arr[i]\n",
        "\n",
        "    # Step 2: Find the smallest power of 2 that is greater than y\n",
        "    ans = 0\n",
        "    while (1 << ans) <= y:\n",
        "        ans += 1\n",
        "\n",
        "    # Calculate the result as 2^ans\n",
        "    result = 1 << ans\n",
        "\n",
        "    # Step 3: Count the number of elements >= result\n",
        "    count = 0\n",
        "    for k in range(n):\n",
        "        if arr[k] >= result:\n",
        "            count += 1\n",
        "\n",
        "    print(count)\n",
        "    t -= 1\n"
      ],
      "metadata": {
        "id": "bi-JFkP8wMw2",
        "colab": {
          "base_uri": "https://localhost:8080/"
        },
        "outputId": "7b9e135f-4391-43bd-9572-39cb947c29f3"
      },
      "execution_count": null,
      "outputs": [
        {
          "output_type": "stream",
          "name": "stdout",
          "text": [
            "1\n",
            "2\n",
            "6 16\n",
            "0\n"
          ]
        }
      ]
    },
    {
      "cell_type": "code",
      "source": [
        "def Fib(n : int ):\n",
        "  if n == 0:\n",
        "    return 0\n",
        "  if n == 1:\n",
        "    return 1\n",
        "  return (Fib(n-1)+Fib(n-2))\n",
        "\n",
        "n = int(input())\n",
        "print(Fib(n))"
      ],
      "metadata": {
        "id": "GVNE1AblwNYj",
        "colab": {
          "base_uri": "https://localhost:8080/"
        },
        "outputId": "d2b22687-80f0-41c6-df84-7ea78f2d55c5"
      },
      "execution_count": null,
      "outputs": [
        {
          "output_type": "stream",
          "name": "stdout",
          "text": [
            "3\n",
            "2\n"
          ]
        }
      ]
    },
    {
      "cell_type": "code",
      "source": [
        "\n",
        "n = int(input())\n",
        "arr = list(map(int,input().split()))\n",
        "x = min(arr)\n",
        "#print(x)\n",
        "sum = 0\n",
        "for i in range(n):\n",
        "  if (arr[i] > x):\n",
        "    y = abs(arr[i]-x)\n",
        "    sum = sum +y\n",
        "  else:\n",
        "    sum = 0\n",
        "print(sum)"
      ],
      "metadata": {
        "id": "6pwiSErKwNZ3",
        "colab": {
          "base_uri": "https://localhost:8080/"
        },
        "outputId": "b4ec2950-130e-4b07-a5dd-4df535bc697b"
      },
      "execution_count": 9,
      "outputs": [
        {
          "output_type": "stream",
          "name": "stdout",
          "text": [
            "1\n",
            "10000000\n",
            "0\n"
          ]
        }
      ]
    },
    {
      "cell_type": "code",
      "source": [
        "t = int(input())\n",
        "while (t>0):\n",
        "    n = int(input())\n",
        "    arr = list(map(int,input().split()))\n",
        "    x = min(arr)\n",
        "    sum = 0\n",
        "    for i in range(n):\n",
        "        if (arr[i] > x):\n",
        "            y = abs(arr[i]-x)\n",
        "            sum = sum +y\n",
        "        else:\n",
        "            sum = 0\n",
        "    print(sum)\n",
        "    t = t-1"
      ],
      "metadata": {
        "id": "5cc3Ry7owNeF",
        "colab": {
          "base_uri": "https://localhost:8080/"
        },
        "outputId": "7f1d78b2-b729-4049-c496-024f1380dbc6"
      },
      "execution_count": 10,
      "outputs": [
        {
          "output_type": "stream",
          "name": "stdout",
          "text": [
            "2\n",
            "5\n",
            "1 2 3 4 5\n",
            "10\n",
            "3\n",
            "8 8 8\n",
            "0\n"
          ]
        }
      ]
    },
    {
      "cell_type": "code",
      "source": [],
      "metadata": {
        "id": "omPUKq_FwNfx"
      },
      "execution_count": null,
      "outputs": []
    }
  ]
}