{
  "nbformat": 4,
  "nbformat_minor": 0,
  "metadata": {
    "colab": {
      "provenance": [],
      "authorship_tag": "ABX9TyPpPURu1RGEE9sxDXFjeHVC",
      "include_colab_link": true
    },
    "kernelspec": {
      "name": "python3",
      "display_name": "Python 3"
    },
    "language_info": {
      "name": "python"
    }
  },
  "cells": [
    {
      "cell_type": "markdown",
      "metadata": {
        "id": "view-in-github",
        "colab_type": "text"
      },
      "source": [
        "<a href=\"https://colab.research.google.com/github/223t1a3119/Practice/blob/main/Untitled13.ipynb\" target=\"_parent\"><img src=\"https://colab.research.google.com/assets/colab-badge.svg\" alt=\"Open In Colab\"/></a>"
      ]
    },
    {
      "cell_type": "code",
      "execution_count": null,
      "metadata": {
        "colab": {
          "base_uri": "https://localhost:8080/"
        },
        "id": "_8rzTibRBRbw",
        "outputId": "735626ad-4433-45c8-d933-db745d0b2358"
      },
      "outputs": [
        {
          "output_type": "stream",
          "name": "stdout",
          "text": [
            "4\n",
            "10 4 8 3\n",
            "[15, 1, 11, 22]\n"
          ]
        }
      ],
      "source": [
        "n = int(input())\n",
        "A = list(map(int,input().split()))\n",
        "B =[]\n",
        "for i in range (n):\n",
        "  left_sum = sum(A[ :i])\n",
        "  right_sum = sum(A[i+1: ])\n",
        "  B_values = abs(left_sum - right_sum)\n",
        "  B.append(B_values)\n",
        "print(B)"
      ]
    },
    {
      "cell_type": "code",
      "source": [
        "r,c = map(int,input().split())\n",
        "mat1 = []\n",
        "for i in range (r):\n",
        "  A = list(map(int,input().split()))\n",
        "  mat1.append(A)"
      ],
      "metadata": {
        "colab": {
          "base_uri": "https://localhost:8080/"
        },
        "id": "WFMivLXBpNZs",
        "outputId": "21d3e9a7-960a-4a70-8bfb-cad827085784"
      },
      "execution_count": 2,
      "outputs": [
        {
          "name": "stdout",
          "output_type": "stream",
          "text": [
            "2 2\n",
            "1 2 3 4\n",
            "2\n"
          ]
        }
      ]
    },
    {
      "cell_type": "code",
      "source": [
        "r,c = map(int,input().split())\n",
        "A= []\n",
        "for i in range (r):\n",
        "  ar = list(map(int,input().split()))\n",
        "  A.append(ar)\n",
        "for i in range (r):\n",
        "  sum = 0\n",
        "  for j in range (c):\n",
        "    sum = sum +A[i][j]\n",
        "  print(sum)"
      ],
      "metadata": {
        "colab": {
          "base_uri": "https://localhost:8080/"
        },
        "id": "2aMXSTPCq8j-",
        "outputId": "c93d40b3-2041-4c7b-b184-eeeb03d714b9"
      },
      "execution_count": 6,
      "outputs": [
        {
          "output_type": "stream",
          "name": "stdout",
          "text": [
            "2 3\n",
            "5 -1 3\n",
            "19 8 -5\n",
            "7\n",
            "22\n"
          ]
        }
      ]
    },
    {
      "cell_type": "code",
      "source": [
        "r,c = map(int,input().split())\n",
        "A = []\n",
        "for i in range(r):\n",
        "  arr = list(map(int,input().split()))\n",
        "  A.append(arr)\n",
        "for j in range(c):\n",
        "  sum = 0\n",
        "  for i in range(r):\n",
        "    sum = sum + A[i][j]\n",
        "  print(sum,end=\" 1\")"
      ],
      "metadata": {
        "colab": {
          "base_uri": "https://localhost:8080/"
        },
        "id": "r-D74LnAuc8x",
        "outputId": "d6be52d3-0fcf-47bf-9b21-23951082a10e"
      },
      "execution_count": 9,
      "outputs": [
        {
          "output_type": "stream",
          "name": "stdout",
          "text": [
            "2 2\n",
            "5 -1\n",
            "19 8\n",
            "24 7 "
          ]
        }
      ]
    },
    {
      "cell_type": "code",
      "source": [
        "\n",
        ""
      ],
      "metadata": {
        "id": "8YCxJoWw_4mJ"
      },
      "execution_count": 28,
      "outputs": []
    },
    {
      "cell_type": "code",
      "source": [],
      "metadata": {
        "id": "FcDKhrFyEdsE"
      },
      "execution_count": 36,
      "outputs": []
    },
    {
      "cell_type": "code",
      "source": [
        "n = int(input())\n",
        "A = []\n",
        "for i in range(n) :\n",
        "    arr = list(map(int,input().split()))\n",
        "    A.append(arr)\n",
        "for i in range(n) :\n",
        "    temp = A[i][i]\n",
        "    A[i][i] = A[i][n-i-1]\n",
        "    A[i][n-i-1] = temp\n",
        "for i in range(n) :\n",
        "    for j in range(n) :\n",
        "        print(A[i][j],end = ' ')\n",
        "    print()"
      ],
      "metadata": {
        "colab": {
          "base_uri": "https://localhost:8080/"
        },
        "id": "Iy84SyaJGsmK",
        "outputId": "b6388453-1800-43f4-9a78-803dcd1a89e4"
      },
      "execution_count": 35,
      "outputs": [
        {
          "output_type": "stream",
          "name": "stdout",
          "text": [
            "4\n",
            "7 -3 4 8\n",
            "-2 1 5 3\n",
            "9 -5 3 8\n",
            "8 -4 2 10\n",
            "8 -3 4 7 \n",
            "-2 5 1 3 \n",
            "9 3 -5 8 \n",
            "10 -4 2 8 \n"
          ]
        }
      ]
    }
  ]
}